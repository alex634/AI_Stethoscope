{
 "cells": [
  {
   "cell_type": "code",
   "execution_count": null,
   "id": "fc85f4fd-fd65-44fa-8321-2b2086251249",
   "metadata": {
    "tags": []
   },
   "outputs": [],
   "source": [
    "!pip install librosa"
   ]
  },
  {
   "cell_type": "code",
   "execution_count": null,
   "id": "b42b6fb4-9e04-485a-b7e0-a9a03d738d1a",
   "metadata": {
    "tags": []
   },
   "outputs": [],
   "source": [
    "import os\n",
    "import librosa"
   ]
  },
  {
   "cell_type": "markdown",
   "id": "f86a90e3-569b-4f5c-8f3e-43120a3f66b3",
   "metadata": {},
   "source": [
    "## Change this to be the directory where the dataset is stored"
   ]
  },
  {
   "cell_type": "code",
   "execution_count": null,
   "id": "ef532ddc-3667-4cae-9632-93c074eff947",
   "metadata": {
    "tags": []
   },
   "outputs": [],
   "source": [
    "os.chdir(\"/home/timo/Downloads/the-circor-digiscope-phonocardiogram-dataset-1.0.3\")"
   ]
  },
  {
   "cell_type": "code",
   "execution_count": null,
   "id": "78961c99-5947-4af8-9dd1-93f83c99e113",
   "metadata": {
    "tags": []
   },
   "outputs": [],
   "source": [
    "os.chdir(\"./training_data/Absent/Wav\")"
   ]
  },
  {
   "cell_type": "code",
   "execution_count": null,
   "id": "e881b23b-59d7-476a-aed9-141580aba32a",
   "metadata": {
    "tags": []
   },
   "outputs": [],
   "source": [
    "minimum_Duration=9999999999\n",
    "for f in os.listdir():\n",
    "    d = librosa.get_duration(path=f)\n",
    "    if d < minimum_Duration:\n",
    "        minimum_Duration = d\n",
    "\n",
    "print(minimum_Duration)"
   ]
  },
  {
   "cell_type": "code",
   "execution_count": null,
   "id": "b476f517-4dbb-49bb-8edf-1f606c4cf651",
   "metadata": {
    "tags": []
   },
   "outputs": [],
   "source": [
    "os.chdir(\"../../Present/Wav\")"
   ]
  },
  {
   "cell_type": "code",
   "execution_count": null,
   "id": "4a20cc93-9633-4af1-bf7c-8f132cb22007",
   "metadata": {
    "tags": []
   },
   "outputs": [],
   "source": [
    "for f in os.listdir():\n",
    "    d = librosa.get_duration(path=f)\n",
    "    if d < minimum_Duration:\n",
    "        minimum_Duration = d\n",
    "\n",
    "print(\"The spectrogram length will be: \" + str(minimum_Duration))"
   ]
  },
  {
   "cell_type": "markdown",
   "id": "6fdface6-bd8a-4019-8c76-d16ceda08eba",
   "metadata": {},
   "source": [
    "## Change the commands below to use the right directories"
   ]
  },
  {
   "cell_type": "code",
   "execution_count": null,
   "id": "589dd0cd-0b80-4371-af98-bf7009f9bd5d",
   "metadata": {},
   "outputs": [],
   "source": [
    "! cd \"/home/timo/Downloads/the-circor-digiscope-phonocardiogram-dataset-1.0.3/training_data/Present/Wav\"; for aud in *wav; do  ffmpeg -hide_banner -loglevel error -y -t 5.1 -i $aud -filter_complex \"[0:a]showspectrumpic=size=256x256:mode=combined:color=intensity:legend=0[out]\" -map '[out]' ${aud}.png ;done; echo \"Finished!!!\""
   ]
  },
  {
   "cell_type": "code",
   "execution_count": 30,
   "id": "b73f0bcc-2ff1-46ef-b54c-97de3c4aeb59",
   "metadata": {
    "tags": []
   },
   "outputs": [
    {
     "name": "stdout",
     "output_type": "stream",
     "text": [
      "Finished!!!\n"
     ]
    }
   ],
   "source": [
    "! cd \"/home/timo/Downloads/the-circor-digiscope-phonocardiogram-dataset-1.0.3/training_data/Absent/Wav\"; for aud in *wav; do  ffmpeg -hide_banner -loglevel error -y -t 5.1 -i $aud -filter_complex \"[0:a]showspectrumpic=size=256x256:mode=combined:color=intensity:legend=0[out]\" -map '[out]' ${aud}.png ;done; echo \"Finished!!!\""
   ]
  },
  {
   "cell_type": "code",
   "execution_count": 3,
   "id": "d8b3dc9d-c6e6-43b2-bcea-523215996fe7",
   "metadata": {},
   "outputs": [],
   "source": [
    "!cd \"/home/timo/Downloads/the-circor-digiscope-phonocardiogram-dataset-1.0.3/training_data/Present/Wav\"; for image in *png; do convert $image -fx \"r\" -colorspace Gray Grayscale_$image; done"
   ]
  },
  {
   "cell_type": "code",
   "execution_count": 4,
   "id": "f94d7f8c-a0d1-4e7c-b5ea-6ca999e64ba4",
   "metadata": {},
   "outputs": [],
   "source": [
    "!cd \"/home/timo/Downloads/the-circor-digiscope-phonocardiogram-dataset-1.0.3/training_data/Absent/Wav\"; for image in *png; do convert $image -fx \"r\" -colorspace Gray Grayscale_$image; done"
   ]
  }
 ],
 "metadata": {
  "kernelspec": {
   "display_name": "Python 3 (ipykernel)",
   "language": "python",
   "name": "python3"
  },
  "language_info": {
   "codemirror_mode": {
    "name": "ipython",
    "version": 3
   },
   "file_extension": ".py",
   "mimetype": "text/x-python",
   "name": "python",
   "nbconvert_exporter": "python",
   "pygments_lexer": "ipython3",
   "version": "3.12.0"
  }
 },
 "nbformat": 4,
 "nbformat_minor": 5
}
